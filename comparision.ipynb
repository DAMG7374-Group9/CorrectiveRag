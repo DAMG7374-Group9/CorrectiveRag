{
 "cells": [
  {
   "metadata": {},
   "cell_type": "markdown",
   "source": "# Setup",
   "id": "62240e1730f2dde7"
  },
  {
   "cell_type": "code",
   "id": "initial_id",
   "metadata": {
    "collapsed": true,
    "ExecuteTime": {
     "end_time": "2024-10-25T23:53:34.217120Z",
     "start_time": "2024-10-25T23:53:34.190470Z"
    }
   },
   "source": [
    "from langchain.text_splitter import RecursiveCharacterTextSplitter\n",
    "from langchain_community.document_loaders import WebBaseLoader\n",
    "from langchain_community.vectorstores import SKLearnVectorStore\n",
    "from langchain_nomic.embeddings import NomicEmbeddings\n",
    "from langchain.prompts import PromptTemplate\n",
    "from langchain_community.chat_models import ChatOllama\n",
    "from langchain_core.output_parsers import JsonOutputParser, StrOutputParser\n",
    "\n",
    "from typing import List\n",
    "from typing_extensions import TypedDict\n",
    "from IPython.display import Image, display\n",
    "from langchain.schema import Document\n",
    "from langgraph.graph import START, END, StateGraph\n",
    "\n",
    "# Llama3: 8 billion params model running on Ollama\n",
    "LLM_MODEL_NAME = \"llama3\"\n",
    "\n",
    "%load_ext dotenv\n",
    "%dotenv"
   ],
   "outputs": [
    {
     "name": "stdout",
     "output_type": "stream",
     "text": [
      "The dotenv extension is already loaded. To reload it, use:\n",
      "  %reload_ext dotenv\n"
     ]
    }
   ],
   "execution_count": 12
  },
  {
   "metadata": {},
   "cell_type": "markdown",
   "source": [
    "# Initializing In-memory Vector Store & Retriever\n",
    "\n",
    "Using Langchain's SKLearnVectoreStore to initialize a minimal vectorstore and use as the retriever  "
   ],
   "id": "6c79a71af1d03eb"
  },
  {
   "metadata": {
    "ExecuteTime": {
     "end_time": "2024-10-25T23:28:14.531676Z",
     "start_time": "2024-10-25T23:27:19.215996Z"
    }
   },
   "cell_type": "code",
   "source": [
    "# Setup documents and generate doc splits\n",
    "urls = [\n",
    "    \"https://lilianweng.github.io/posts/2023-06-23-agent/\",\n",
    "    \"https://lilianweng.github.io/posts/2023-03-15-prompt-engineering/\",\n",
    "    \"https://lilianweng.github.io/posts/2023-10-25-adv-attack-llm/\",\n",
    "]\n",
    "docs = [WebBaseLoader(url).load() for url in urls]\n",
    "docs_list = [item for sublist in docs for item in sublist]\n",
    "\n",
    "text_splitter = RecursiveCharacterTextSplitter.from_tiktoken_encoder(chunk_size=250, chunk_overlap=0)\n",
    "doc_splits = text_splitter.split_documents(docs_list)\n",
    "\n",
    "# Embeddings\n",
    "embedding = NomicEmbeddings(\n",
    "    model=\"nomic-embed-text-v1.5\",\n",
    "    inference_mode=\"local\",\n",
    "    device=\"gpu\"\n",
    ")\n",
    "\n",
    "# Finally, create the vectorstore and Retriever\n",
    "vectorstore = SKLearnVectorStore.from_documents(\n",
    "    documents=doc_splits,\n",
    "    embedding=embedding,\n",
    ")\n",
    "retriever = vectorstore.as_retriever(k=4)"
   ],
   "id": "5f0b88ad631b3acf",
   "outputs": [],
   "execution_count": 3
  },
  {
   "metadata": {},
   "cell_type": "markdown",
   "source": "# Tools required for making RAG applications \"Corrective\"",
   "id": "3021176242c4daf1"
  },
  {
   "metadata": {},
   "cell_type": "markdown",
   "source": "## Retrieval Evaluator",
   "id": "6495d78924a42dd0"
  },
  {
   "metadata": {
    "ExecuteTime": {
     "end_time": "2024-10-25T23:54:29.833638Z",
     "start_time": "2024-10-25T23:54:29.815983Z"
    }
   },
   "cell_type": "code",
   "source": [
    "# Using Llama3:8b as the evaluator, as T5 was crashing on my machine\n",
    "evaluator_llm = ChatOllama(model=LLM_MODEL_NAME, format=\"json\", temperature=0)\n",
    "\n",
    "# Prompt\n",
    "evaluator_prompt = PromptTemplate(\n",
    "    template=\"\"\"You are a teacher grading a quiz. You will be given: \n",
    "    1/ a QUESTION\n",
    "    2/ A FACT provided by the student\n",
    "    \n",
    "    You are grading RELEVANCE RECALL:\n",
    "    A score of 1 means that ANY of the statements in the FACT are relevant to the QUESTION. \n",
    "    A score of 0 means that NONE of the statements in the FACT are relevant to the QUESTION. \n",
    "    1 is the highest (best) score. 0 is the lowest score you can give. \n",
    "    \n",
    "    Explain your reasoning in a step-by-step manner. Ensure your reasoning and conclusion are correct. \n",
    "    \n",
    "    Avoid simply stating the correct answer at the outset.\n",
    "    \n",
    "    Question: {question} \\n\n",
    "    Fact: \\n\\n {documents} \\n\\n\n",
    "    \n",
    "    Give a binary score 'yes' or 'no' score to indicate whether the document is relevant to the question. \\n\n",
    "    Provide the binary score as a JSON with a single key 'score' and no premable or explanation.\n",
    "    \"\"\",\n",
    "    input_variables=[\"question\", \"documents\"],\n",
    ")\n",
    "\n",
    "retrieval_evaluator_chain = evaluator_prompt| evaluator_llm | JsonOutputParser()"
   ],
   "id": "203c5248386198c9",
   "outputs": [],
   "execution_count": 13
  },
  {
   "metadata": {
    "ExecuteTime": {
     "end_time": "2024-10-25T23:55:18.887508Z",
     "start_time": "2024-10-25T23:54:36.982438Z"
    }
   },
   "cell_type": "code",
   "source": [
    "question = \"agent memory\"\n",
    "docs = retriever.invoke(question)\n",
    "doc_txt = docs[1].page_content\n",
    "print(retrieval_evaluator_chain.invoke({\"question\": question, \"documents\": doc_txt}))"
   ],
   "id": "e36b90855178a370",
   "outputs": [
    {
     "name": "stdout",
     "output_type": "stream",
     "text": [
      "{'score': 1}\n"
     ]
    }
   ],
   "execution_count": 14
  },
  {
   "metadata": {
    "ExecuteTime": {
     "end_time": "2024-10-25T23:37:57.299727Z",
     "start_time": "2024-10-25T23:37:57.263346Z"
    }
   },
   "cell_type": "code",
   "source": "docs",
   "id": "d7fe71f9a08904b5",
   "outputs": [
    {
     "data": {
      "text/plain": [
       "[Document(metadata={'id': '9fcb6efe-6226-4340-a7c8-3cdde16a1cbf', 'source': 'https://lilianweng.github.io/posts/2023-06-23-agent/', 'title': \"LLM Powered Autonomous Agents | Lil'Log\", 'description': 'Building agents with LLM (large language model) as its core controller is a cool concept. Several proof-of-concepts demos, such as AutoGPT, GPT-Engineer and BabyAGI, serve as inspiring examples. The potentiality of LLM extends beyond generating well-written copies, stories, essays and programs; it can be framed as a powerful general problem solver.\\nAgent System Overview In a LLM-powered autonomous agent system, LLM functions as the agent’s brain, complemented by several key components:', 'language': 'en'}, page_content='They also discussed the risks, especially with illicit drugs and bioweapons. They developed a test set containing a list of known chemical weapon agents and asked the agent to synthesize them. 4 out of 11 requests (36%) were accepted to obtain a synthesis solution and the agent attempted to consult documentation to execute the procedure. 7 out of 11 were rejected and among these 7 rejected cases, 5 happened after a Web search while 2 were rejected based on prompt only.\\nGenerative Agents Simulation#\\nGenerative Agents (Park, et al. 2023) is super fun experiment where 25 virtual characters, each controlled by a LLM-powered agent, are living and interacting in a sandbox environment, inspired by The Sims. Generative agents create believable simulacra of human behavior for interactive applications.\\nThe design of generative agents combines LLM with memory, planning and reflection mechanisms to enable agents to behave conditioned on past experience, as well as to interact with other agents.\\n\\nMemory stream: is a long-term memory module (external database) that records a comprehensive list of agents’ experience in natural language.'),\n",
       " Document(metadata={'id': 'c0d4bf7e-e4df-4a5e-abf2-181162b234ba', 'source': 'https://lilianweng.github.io/posts/2023-06-23-agent/', 'title': \"LLM Powered Autonomous Agents | Lil'Log\", 'description': 'Building agents with LLM (large language model) as its core controller is a cool concept. Several proof-of-concepts demos, such as AutoGPT, GPT-Engineer and BabyAGI, serve as inspiring examples. The potentiality of LLM extends beyond generating well-written copies, stories, essays and programs; it can be framed as a powerful general problem solver.\\nAgent System Overview In a LLM-powered autonomous agent system, LLM functions as the agent’s brain, complemented by several key components:', 'language': 'en'}, page_content='Each element is an observation, an event directly provided by the agent.\\n- Inter-agent communication can trigger new natural language statements.\\n\\n\\nRetrieval model: surfaces the context to inform the agent’s behavior, according to relevance, recency and importance.\\n\\nRecency: recent events have higher scores\\nImportance: distinguish mundane from core memories. Ask LM directly.\\nRelevance: based on how related it is to the current situation / query.\\n\\n\\nReflection mechanism: synthesizes memories into higher level inferences over time and guides the agent’s future behavior. They are higher-level summaries of past events (<- note that this is a bit different from self-reflection above)\\n\\nPrompt LM with 100 most recent observations and to generate 3 most salient high-level questions given a set of observations/statements. Then ask LM to answer those questions.\\n\\n\\nPlanning & Reacting: translate the reflections and the environment information into actions'),\n",
       " Document(metadata={'id': '5e5ce891-f4ee-4ef7-b887-8c103a4524d7', 'source': 'https://lilianweng.github.io/posts/2023-06-23-agent/', 'title': \"LLM Powered Autonomous Agents | Lil'Log\", 'description': 'Building agents with LLM (large language model) as its core controller is a cool concept. Several proof-of-concepts demos, such as AutoGPT, GPT-Engineer and BabyAGI, serve as inspiring examples. The potentiality of LLM extends beyond generating well-written copies, stories, essays and programs; it can be framed as a powerful general problem solver.\\nAgent System Overview In a LLM-powered autonomous agent system, LLM functions as the agent’s brain, complemented by several key components:', 'language': 'en'}, page_content='Short-term memory: I would consider all the in-context learning (See Prompt Engineering) as utilizing short-term memory of the model to learn.\\nLong-term memory: This provides the agent with the capability to retain and recall (infinite) information over extended periods, often by leveraging an external vector store and fast retrieval.\\n\\n\\nTool use\\n\\nThe agent learns to call external APIs for extra information that is missing from the model weights (often hard to change after pre-training), including current information, code execution capability, access to proprietary information sources and more.'),\n",
       " Document(metadata={'id': '18e5b264-a112-4ab7-81e0-556f1524c4d5', 'source': 'https://lilianweng.github.io/posts/2023-06-23-agent/', 'title': \"LLM Powered Autonomous Agents | Lil'Log\", 'description': 'Building agents with LLM (large language model) as its core controller is a cool concept. Several proof-of-concepts demos, such as AutoGPT, GPT-Engineer and BabyAGI, serve as inspiring examples. The potentiality of LLM extends beyond generating well-written copies, stories, essays and programs; it can be framed as a powerful general problem solver.\\nAgent System Overview In a LLM-powered autonomous agent system, LLM functions as the agent’s brain, complemented by several key components:', 'language': 'en'}, page_content='Sensory memory as learning embedding representations for raw inputs, including text, image or other modalities;\\nShort-term memory as in-context learning. It is short and finite, as it is restricted by the finite context window length of Transformer.\\nLong-term memory as the external vector store that the agent can attend to at query time, accessible via fast retrieval.\\n\\nMaximum Inner Product Search (MIPS)#\\nThe external memory can alleviate the restriction of finite attention span.  A standard practice is to save the embedding representation of information into a vector store database that can support fast maximum inner-product search (MIPS). To optimize the retrieval speed, the common choice is the approximate nearest neighbors (ANN)\\u200b algorithm to return approximately top k nearest neighbors to trade off a little accuracy lost for a huge speedup.\\nA couple common choices of ANN algorithms for fast MIPS:')]"
      ]
     },
     "execution_count": 6,
     "metadata": {},
     "output_type": "execute_result"
    }
   ],
   "execution_count": 6
  },
  {
   "metadata": {},
   "cell_type": "markdown",
   "source": "## Knowledge Searching - Web Search Using Tavily API",
   "id": "9ceced082356f94c"
  },
  {
   "metadata": {
    "ExecuteTime": {
     "end_time": "2024-10-25T23:41:04.194465Z",
     "start_time": "2024-10-25T23:41:03.656235Z"
    }
   },
   "cell_type": "code",
   "source": [
    "from langchain_community.tools.tavily_search import TavilySearchResults\n",
    "\n",
    "web_search_tool = TavilySearchResults(k=3)"
   ],
   "id": "536338537cd2f5f",
   "outputs": [],
   "execution_count": 7
  },
  {
   "metadata": {},
   "cell_type": "markdown",
   "source": "# RAG Application Components",
   "id": "c4992ef41e0d86"
  },
  {
   "metadata": {
    "ExecuteTime": {
     "end_time": "2024-10-25T23:55:18.932553Z",
     "start_time": "2024-10-25T23:55:18.913025Z"
    }
   },
   "cell_type": "code",
   "source": [
    "# Generate response from LLM\n",
    "\n",
    "# Prompt\n",
    "generation_prompt = PromptTemplate(\n",
    "    template=\"\"\"You are an assistant for question-answering tasks. \n",
    "    \n",
    "    Use the following documents to answer the question. \n",
    "    \n",
    "    If you don't know the answer, just say that you don't know. \n",
    "    \n",
    "    Use three sentences maximum and keep the answer concise:\n",
    "    Question: {question} \n",
    "    Documents: {documents} \n",
    "    Answer: \n",
    "    \"\"\",\n",
    "    input_variables=[\"question\", \"documents\"],\n",
    ")\n",
    "\n",
    "# LLM\n",
    "generation_llm = ChatOllama(model=LLM_MODEL_NAME, temperature=0)\n",
    "\n",
    "# Chain\n",
    "generation_chain = generation_prompt | generation_llm | StrOutputParser()"
   ],
   "id": "67976692a53594b3",
   "outputs": [],
   "execution_count": 15
  },
  {
   "metadata": {
    "ExecuteTime": {
     "end_time": "2024-10-25T23:56:31.995969Z",
     "start_time": "2024-10-25T23:56:24.424246Z"
    }
   },
   "cell_type": "code",
   "source": [
    "# Run\n",
    "_generation = generation_chain.invoke({\"documents\": docs, \"question\": question})\n",
    "print(_generation)"
   ],
   "id": "53424e4dfc35ce87",
   "outputs": [
    {
     "name": "stdout",
     "output_type": "stream",
     "text": [
      "According to the documents, agent memory refers to the long-term memory module that records a comprehensive list of agents' experience in natural language. This allows the agent to retain and recall information over extended periods. Additionally, there is also short-term memory which is utilized for in-context learning, and sensory memory which learns embedding representations for raw inputs.\n"
     ]
    }
   ],
   "execution_count": 17
  },
  {
   "metadata": {},
   "cell_type": "markdown",
   "source": "## RAG State data structures",
   "id": "d257f762ba8b8a52"
  },
  {
   "metadata": {
    "ExecuteTime": {
     "end_time": "2024-10-25T23:51:51.943678Z",
     "start_time": "2024-10-25T23:51:51.938780Z"
    }
   },
   "cell_type": "code",
   "source": [
    "class BasicGraphState(TypedDict):\n",
    "    \"\"\"\n",
    "    Represents the state of our graph.\n",
    "\n",
    "    Attributes:\n",
    "        question: question\n",
    "        generation: LLM generation\n",
    "        documents: list of documents\n",
    "    \"\"\"\n",
    "\n",
    "    question: str\n",
    "    generation: str\n",
    "    documents: List[str]\n",
    "    steps: List[str]"
   ],
   "id": "698d6348f0c67017",
   "outputs": [],
   "execution_count": 11
  },
  {
   "metadata": {
    "ExecuteTime": {
     "end_time": "2024-10-25T23:43:48.124117Z",
     "start_time": "2024-10-25T23:43:48.119076Z"
    }
   },
   "cell_type": "code",
   "source": [
    "class CorrectiveGraphState(TypedDict):\n",
    "    \"\"\"\n",
    "    Represents the state of our graph.\n",
    "\n",
    "    Attributes:\n",
    "        question: question\n",
    "        generation: LLM generation\n",
    "        search: whether to add search\n",
    "        documents: list of documents\n",
    "    \"\"\"\n",
    "\n",
    "    question: str\n",
    "    generation: str\n",
    "    search: str\n",
    "    documents: List[str]\n",
    "    steps: List[str]"
   ],
   "id": "990ffb4c307bd3a8",
   "outputs": [],
   "execution_count": 9
  },
  {
   "metadata": {},
   "cell_type": "markdown",
   "source": "## Basic RAG - Nodes logic",
   "id": "b0eceae33c010498"
  },
  {
   "metadata": {
    "ExecuteTime": {
     "end_time": "2024-10-25T23:59:55.501116Z",
     "start_time": "2024-10-25T23:59:55.491779Z"
    }
   },
   "cell_type": "code",
   "source": [
    "def retrieve(state):\n",
    "    \"\"\"\n",
    "    Retrieve documents\n",
    "\n",
    "    Args:\n",
    "        state (dict): The current graph state\n",
    "\n",
    "    Returns:\n",
    "        state (dict): New key added to state, documents, that contains retrieved documents\n",
    "    \"\"\"\n",
    "    question = state[\"question\"]\n",
    "    documents = retriever.invoke(question)\n",
    "    steps = state[\"steps\"]\n",
    "    steps.append(\"retrieve_documents\")\n",
    "    return {\"documents\": documents, \"question\": question, \"steps\": steps}\n",
    "\n",
    "\n",
    "def generate(state):\n",
    "    \"\"\"\n",
    "    Generate answer\n",
    "\n",
    "    Args:\n",
    "        state (dict): The current graph state\n",
    "\n",
    "    Returns:\n",
    "        state (dict): New key added to state, generation, that contains LLM generation\n",
    "    \"\"\"\n",
    "\n",
    "    question = state[\"question\"]\n",
    "    documents = state[\"documents\"]\n",
    "    generation = generation_chain.invoke({\"documents\": documents, \"question\": question})\n",
    "    steps = state[\"steps\"]\n",
    "    steps.append(\"generate_answer\")\n",
    "    return {\n",
    "        \"documents\": documents,\n",
    "        \"question\": question,\n",
    "        \"generation\": generation,\n",
    "        \"steps\": steps,\n",
    "    }\n"
   ],
   "id": "eae2877a10e60207",
   "outputs": [],
   "execution_count": 18
  },
  {
   "metadata": {},
   "cell_type": "markdown",
   "source": "## Basic RAG LangGraph",
   "id": "66afc6e9f8f1a3aa"
  },
  {
   "metadata": {
    "ExecuteTime": {
     "end_time": "2024-10-26T00:12:53.319877Z",
     "start_time": "2024-10-26T00:12:52.803843Z"
    }
   },
   "cell_type": "code",
   "source": [
    "basic_rag_workflow = StateGraph(BasicGraphState)\n",
    "\n",
    "# Define nodes\n",
    "basic_rag_workflow.add_node(\"retrieve\", retrieve)\n",
    "basic_rag_workflow.add_node(\"generate\", generate)\n",
    "\n",
    "# Build Graph\n",
    "basic_rag_workflow.add_edge(START, \"retrieve\")\n",
    "basic_rag_workflow.add_edge(\"retrieve\", \"generate\")\n",
    "basic_rag_workflow.add_edge(\"generate\", END)\n",
    "\n",
    "basic_rag_graph = basic_rag_workflow.compile()\n",
    "\n",
    "display(Image(basic_rag_graph.get_graph(xray=True).draw_mermaid_png()))"
   ],
   "id": "b29ff94662e02fdb",
   "outputs": [
    {
     "data": {
      "image/jpeg": "[encoded data removed]",
      "text/plain": [
       "<IPython.core.display.Image object>"
      ]
     },
     "metadata": {},
     "output_type": "display_data"
    }
   ],
   "execution_count": 19
  },
  {
   "metadata": {},
   "cell_type": "markdown",
   "source": "## Corrective RAG LangGraph",
   "id": "da7da4b612d052d0"
  },
  {
   "metadata": {
    "ExecuteTime": {
     "end_time": "2024-10-26T00:17:58.242037Z",
     "start_time": "2024-10-26T00:17:58.227947Z"
    }
   },
   "cell_type": "code",
   "source": [
    "def grade_documents(state):\n",
    "    \"\"\"\n",
    "    Determines whether the retrieved documents are relevant to the question.\n",
    "\n",
    "    Args:\n",
    "        state (dict): The current graph state\n",
    "\n",
    "    Returns:\n",
    "        state (dict): Updates documents key with only filtered relevant documents\n",
    "    \"\"\"\n",
    "\n",
    "    question = state[\"question\"]\n",
    "    documents = state[\"documents\"]\n",
    "    steps = state[\"steps\"]\n",
    "    steps.append(\"grade_document_retrieval\")\n",
    "    filtered_docs = []\n",
    "    search = \"No\"\n",
    "    for d in documents:\n",
    "        score = retrieval_evaluator_chain.invoke(\n",
    "            {\"question\": question, \"documents\": d.page_content}\n",
    "        )\n",
    "        grade = score[\"score\"]\n",
    "        if grade == \"yes\":\n",
    "            filtered_docs.append(d)\n",
    "        else:\n",
    "            search = \"Yes\"\n",
    "            continue\n",
    "    return {\n",
    "        \"documents\": filtered_docs,\n",
    "        \"question\": question,\n",
    "        \"search\": search,\n",
    "        \"steps\": steps,\n",
    "    }\n",
    "\n",
    "\n",
    "def web_search(state):\n",
    "    \"\"\"\n",
    "    Web search based on the re-phrased question.\n",
    "\n",
    "    Args:\n",
    "        state (dict): The current graph state\n",
    "\n",
    "    Returns:\n",
    "        state (dict): Updates documents key with appended web results\n",
    "    \"\"\"\n",
    "\n",
    "    question = state[\"question\"]\n",
    "    documents = state.get(\"documents\", [])\n",
    "    steps = state[\"steps\"]\n",
    "    steps.append(\"web_search\")\n",
    "    web_results = web_search_tool.invoke({\"query\": question})\n",
    "    documents.extend(\n",
    "        [\n",
    "            Document(page_content=d[\"content\"], metadata={\"url\": d[\"url\"]})\n",
    "            for d in web_results\n",
    "        ]\n",
    "    )\n",
    "    return {\"documents\": documents, \"question\": question, \"steps\": steps}\n",
    "\n",
    "\n",
    "def decide_to_generate(state):\n",
    "    \"\"\"\n",
    "    Determines whether to generate an answer, or re-generate a question.\n",
    "\n",
    "    Args:\n",
    "        state (dict): The current graph state\n",
    "\n",
    "    Returns:\n",
    "        str: Binary decision for next node to call\n",
    "    \"\"\"\n",
    "    search = state[\"search\"]\n",
    "    if search == \"Yes\":\n",
    "        return \"search\"\n",
    "    else:\n",
    "        return \"generate\""
   ],
   "id": "aff8ac95f6288ab0",
   "outputs": [],
   "execution_count": 22
  },
  {
   "metadata": {
    "ExecuteTime": {
     "end_time": "2024-10-26T00:17:59.202284Z",
     "start_time": "2024-10-26T00:17:59.129332Z"
    }
   },
   "cell_type": "code",
   "source": [
    "corrective_rag_workflow = StateGraph(CorrectiveGraphState)\n",
    "\n",
    "# Define the nodes\n",
    "corrective_rag_workflow.add_node(\"retrieve\", retrieve)  # retrieve\n",
    "corrective_rag_workflow.add_node(\"grade_documents\", grade_documents)  # grade documents\n",
    "corrective_rag_workflow.add_node(\"generate\", generate)  # generatae\n",
    "corrective_rag_workflow.add_node(\"web_search\", web_search)  # web search\n",
    "\n",
    "# Build graph\n",
    "corrective_rag_workflow.add_edge(START, \"retrieve\")\n",
    "corrective_rag_workflow.add_edge(\"retrieve\", \"grade_documents\")\n",
    "corrective_rag_workflow.add_conditional_edges(\n",
    "    \"grade_documents\",\n",
    "    decide_to_generate,\n",
    "    {\n",
    "        \"search\": \"web_search\",\n",
    "        \"generate\": \"generate\",\n",
    "    },\n",
    ")\n",
    "corrective_rag_workflow.add_edge(\"web_search\", \"generate\")\n",
    "corrective_rag_workflow.add_edge(\"generate\", END)  \n",
    "\n",
    "corrective_rag_graph = corrective_rag_workflow.compile()\n",
    "\n",
    "display(Image(corrective_rag_graph.get_graph(xray=True).draw_mermaid_png()))"
   ],
   "id": "f6ecfe4ddae4ebae",
   "outputs": [
    {
     "data": {
      "image/jpeg": "[encoded data removed]",
      "text/plain": [
       "<IPython.core.display.Image object>"
      ]
     },
     "metadata": {},
     "output_type": "display_data"
    }
   ],
   "execution_count": 23
  },
  {
   "metadata": {},
   "cell_type": "markdown",
   "source": "# Evaluation",
   "id": "c1dbc036b85434ea"
  },
  {
   "metadata": {
    "ExecuteTime": {
     "end_time": "2024-10-26T01:16:13.320640Z",
     "start_time": "2024-10-26T01:16:13.314919Z"
    }
   },
   "cell_type": "code",
   "source": [
    "import uuid\n",
    "\n",
    "def _generate_response(rag_type: str, question: dict):\n",
    "    config = {\n",
    "        \"configurable\": {\"thread_id\": rag_type.upper() + uuid.uuid4().hex},\n",
    "    }\n",
    "    _graph = basic_rag_graph if rag_type == \"basic\" else corrective_rag_graph    \n",
    "    state_dict = _graph.invoke(\n",
    "        {\"question\": question[\"input\"], \"steps\": []}, config\n",
    "    )\n",
    "    return state_dict\n",
    "\n",
    "def _format_responses(rag_type: str, state_dict: dict):\n",
    "    print(f\"{rag_type.upper()}: {state_dict['steps']}\")\n",
    "    print(state_dict[\"generation\"])\n",
    "\n",
    "\n",
    "def compare_the_rags(question: dict):\n",
    "    _format_responses(\"basic\", _generate_response(\"basic\", question))\n",
    "    print(\"\\n\" + \"-\"*150 + \"\\n\")\n",
    "    _format_responses(\"corrective\", _generate_response(\"corrective\", question))\n"
   ],
   "id": "3d4048361a99c0d5",
   "outputs": [],
   "execution_count": 47
  },
  {
   "metadata": {
    "ExecuteTime": {
     "end_time": "2024-10-26T01:15:11.234604Z",
     "start_time": "2024-10-26T01:14:33.016530Z"
    }
   },
   "cell_type": "code",
   "source": [
    "example = {\"input\": \"What are the types of agent memory?\"}\n",
    "\n",
    "compare_the_rags(example)"
   ],
   "id": "d5c3a6e5dbe47c39",
   "outputs": [
    {
     "name": "stdout",
     "output_type": "stream",
     "text": [
      "BASIC: ['retrieve_documents', 'generate_answer']\n",
      "According to the documents, there are several types of memory:\n",
      "\n",
      "* Sensory Memory: retains impressions of sensory information (visual, auditory, etc) after the original stimuli have ended.\n",
      "* Short-term Memory: provides in-context learning and is short and finite, restricted by the finite context window length of Transformer.\n",
      "\n",
      "These types of memory can be used to enable agents to behave conditioned on past experience.\n",
      "------------------------------\n",
      "\n",
      "\n",
      "CORRECTIVE: ['retrieve_documents', 'grade_document_retrieval', 'web_search', 'generate_answer']\n",
      "According to the provided documents, there are different high-level types of memory for agents, including:\n",
      "\n",
      "* Short-term memory for context\n",
      "* Long-term memory using external storage, such as vector databases\n",
      "* Contextual memory\n",
      "\n",
      "These types of memory enable efficient information retrieval and enhanced reasoning in AI agents.\n"
     ]
    }
   ],
   "execution_count": 44
  },
  {
   "metadata": {
    "ExecuteTime": {
     "end_time": "2024-10-26T01:03:19.279584Z",
     "start_time": "2024-10-26T01:02:46.650200Z"
    }
   },
   "cell_type": "code",
   "source": "_generate_response(\"corrective\", example)",
   "id": "e596dd67eb661f2a",
   "outputs": [
    {
     "data": {
      "text/plain": [
       "{'question': 'What are the types of agent memory?',\n",
       " 'generation': 'According to the provided documents, there are different types of agent memory mentioned:\\n\\n* Short-term memory for context and long-term memory using external storage (Document 2)\\n* High-level types of memory, including [not specified] (Document 1)\\n\\nThese types of memory enable agents to provide more personalized and efficient interactions.',\n",
       " 'search': 'Yes',\n",
       " 'documents': [Document(metadata={'url': 'https://blog.langchain.dev/memory-for-agents/'}, page_content='Memory for agents Memory for agents At Sequoia’s AI Ascent conference in March, I talked about three limitations for agents: planning, UX, and memory. But what even is memory? While the exact shape of memory that your agent has may differ by application, we do see different high level types of memory. Below is my rough, ELI5 explanation of each type and practical ways for how todays agents may use and update this memory type. Besides just thinking about the type of memory to update in their agents, we also see developers thinking about how to update agent memory. One way to update agent memory is “in the hot path”. Why do we care about memory for agents?'),\n",
       "  Document(metadata={'url': 'https://www.restack.io/p/agent-architecture-answer-memory-management-ai-cat-ai'}, page_content='Memory Management In AI Agents Memory Management In AI Agents Explore memory management techniques in AI agents, focusing on efficiency and optimization for enhanced performance. Types of Memory in AI Agents Types of Memory in AI Agents ---------------------------- Memory management in AI agents incorporates short-term memory for context and long-term memory using external storage, such as vector databases, enabling efficient information retrieval and enhanced reasoning. Memory management in AI agents is crucial for optimizing performance and enhancing user interactions. By leveraging short-term, long-term, and contextual memory, agents can provide more personalized and efficient interactions, ultimately leading to better outcomes for users. This ongoing development aims to enhance memory management in AI agents, ensuring they can provide more coherent and contextually relevant interactions. Types of Memory in AI Agents'),\n",
       "  Document(metadata={'url': 'https://superagi.com/towards-agi-part-1/'}, page_content='Sign up for Latest SuperAGI Updates\\n\"*\" indicates required fields\\nSuperAGI builds infrastructure components, tools, frameworks and models to enable opensource AGI\\ncommunity@superagi.com\\nFor Developers\\nDocs\\nGitHub\\nReleases\\nRoadmap\\nAPIs\\nCommunity\\nSupport Forum\\nMarketplace\\nSocial Mentions\\nReddit\\nCollectibles\\nResources\\nBlog\\nUse Cases\\nAGI Research Lab\\nTutorials\\nImportant Links\\nSuperAGI Cloud\\nApp Spotlight\\nSuperCoder\\nArchitecture\\n Check it out✨\\nFeatures\\nAction Console\\nResource Manager\\nTrajectory Fine-Tuning\\n\\u200c\\nMultiple Vector DBs\\nMulti-LLM Support\\nAgent Workflows\\nMarketplace\\nAgent Templates\\nDiscord\\nGitHub\\nTwitter\\nReddit\\nYoutube\\nTowards AGI (part 1): Agents with Memory\\nFebruary 6, 2024\\n7 mins read\\nAgents are an emerging class of artificial intelligence (AI) systems that use large language models (LLMs) to interact with the world. In a professional setup like this, the agent is responsible for extracting tasks from conversations and passing them to an employee and once the employee completes the task the agent will convey the output to the user. Then use the solutions of those basic tasks as in-context examples to solve the current task.\\nConclusion & Next Steps\\nIn this blog, we saw that design choices for Memory depend on the end use case. This analogy is better captured in the following table:\\nDeep dive into various types of Agent Memory\\nChoosing the right Memory design in Production\\nSince agents are powered by LLMs, they are inherently probabilistic.'),\n",
       "  Document(metadata={'url': 'https://medium.com/aiguys/ai-agents-are-all-you-need-0b38e8ee5481'}, page_content=\"Types of Agents; Conclusion; Image Generated by GPT's DALLE-2. ... This is a framework to equip agents with dynamic memory and self-reflection capabilities to improve reasoning skills. Reflexion\"),\n",
       "  Document(metadata={'url': 'https://github.blog/ai-and-ml/generative-ai/what-are-ai-agents-and-why-do-they-matter/'}, page_content=\"Memory: an AI agent combines the ability to use short-term memory to process chat-based prompts and follow-up prompts with longer-term data retention and recall (often via retrieval augmented generation, or RAG). Tool use: an agent can query APIs to request additional information or execute an action based on an end user's request.\")],\n",
       " 'steps': ['retrieve_documents',\n",
       "  'grade_document_retrieval',\n",
       "  'web_search',\n",
       "  'generate_answer']}"
      ]
     },
     "execution_count": 30,
     "metadata": {},
     "output_type": "execute_result"
    }
   ],
   "execution_count": 30
  },
  {
   "metadata": {},
   "cell_type": "code",
   "outputs": [],
   "execution_count": null,
   "source": "",
   "id": "ec066b530914bde"
  }
 ],
 "metadata": {
  "kernelspec": {
   "display_name": "Python 3",
   "language": "python",
   "name": "python3"
  },
  "language_info": {
   "codemirror_mode": {
    "name": "ipython",
    "version": 2
   },
   "file_extension": ".py",
   "mimetype": "text/x-python",
   "name": "python",
   "nbconvert_exporter": "python",
   "pygments_lexer": "ipython2",
   "version": "2.7.6"
  }
 },
 "nbformat": 4,
 "nbformat_minor": 5
}
